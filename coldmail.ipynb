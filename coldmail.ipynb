{
 "cells": [
  {
   "cell_type": "code",
   "execution_count": 9,
   "metadata": {},
   "outputs": [
    {
     "data": {
      "text/plain": [
       "True"
      ]
     },
     "execution_count": 9,
     "metadata": {},
     "output_type": "execute_result"
    }
   ],
   "source": [
    "import os\n",
    "from dotenv import load_dotenv\n",
    "load_dotenv()"
   ]
  },
  {
   "cell_type": "code",
   "execution_count": 10,
   "metadata": {},
   "outputs": [],
   "source": [
    "api_key = os.getenv('GOOGLE_API_KEY')"
   ]
  },
  {
   "cell_type": "code",
   "execution_count": 11,
   "metadata": {},
   "outputs": [
    {
     "name": "stdout",
     "output_type": "stream",
     "text": [
      "Eyes that see beyond the norm,\n",
      "Genai's wisdom, a guiding storm.\n",
      "Unraveling truths, veiled in sight,\n",
      "Illuminating paths with keen insight.\n",
      "Knowledge's beacon, shining bright.\n"
     ]
    }
   ],
   "source": [
    "from langchain_google_genai import GoogleGenerativeAI\n",
    "llm = GoogleGenerativeAI(\n",
    "    model=\"gemini-pro\",\n",
    "    google_api_key=api_key,\n",
    "\n",
    ")\n",
    "print(llm.invoke('write a poem about genai within 5 line'))"
   ]
  },
  {
   "cell_type": "code",
   "execution_count": 12,
   "metadata": {},
   "outputs": [],
   "source": [
    "job_post = \"\"\"\n",
    "The pay range is $93,800.00 - $168,800.00\n",
    "\n",
    "Pay is based on several factors which vary based on position. These include labor markets and in some instances may include education, work experience and certifications. In addition to your pay, Target cares about and invests in you as a team member, so that you can take care of yourself and your family. Target offers eligible team members and their dependents comprehensive health benefits and programs, which may include medical, vision, dental, life insurance and more, to help you and your family take care of your whole selves. Other benefits for eligible team members include 401(k), employee discount, short term disability, long term disability, paid sick leave, paid national holidays, and paid vacation. Find competitive benefits from financial and education to well-being and beyond at https://corporate.target.com/careers/benefits.\n",
    "\n",
    "JOIN TARGET AS A SR DATA SCIENTIST – SEARCH (NLP, APPLIED ML)\n",
    "\n",
    "About Us\n",
    "\n",
    "As a Fortune 50 company with more than 350,000 team members worldwide, Target is an iconic brand and one of America's leading retailers. Working at Target means helping all families discover the joy of everyday life. We bring that vision to life through our values and culture. Learn more about Target here.\n",
    "\n",
    "Join our global in-house Tech team of more than 5,000 software engineers, applied data scientists, architects and product managers striving to make Target the most convenient, safe and joyful place to shop. We use agile practices and leverage open-source software to adapt and build best-in-class technology for our team members and guests. We do so with a focus on diversity and inclusion, experimentation and continuous learning.\n",
    "\n",
    "The Search and Browse Data Science team builds the core relevance engine and Data Science products that power Target’s digital experience. As a Sr Data Scientist on this team – you’ll work with business partners to provide solutions for business problems in a fast-paced and global environment. You’ll have the opportunity to design quality, flexible and performant Data Science systems and services at scale. You’ll also architect Data Science solutions that capture, process and mine huge datasets in the retail industry. We’ll also promote innovative thinking as well as the opportunity to utilize cutting-edge machine learning algorithms and NLP techniques to improve our Mobile and Web Search systems at Target!\n",
    "\n",
    "As a Sr Data Scientist, you will influence by interacting within the Data Sciences team and with Product teams, perform within the scale and scope of your role by implementing solutions, and contribute to Data Sciences’ and Target’s culture by modeling the culture. Through your understanding of the foundations and working principles of machine learning algorithms, linear algebra, probability theory, statistics, and optimization theory, you will perform data exploration and analysis (look at distributions, find anomalies, create simple visualizations, etc.) and implement algorithmic solution given specifications, while adhering to best practices in model development. We will look to you to understand and actively follow foundational programming principles (best practices, know about unit tests, code organization, basics of CI/CD etc.) and create a well-maintainable & tested codebase with relevant documentation. You will get the opportunity to develop in one or more approved programming languages (Java, Scala, Python, R), and learn and adhere to best practices in data analysis and data understanding.\n",
    "\n",
    "Core responsibilities of this job are described within this job description. Job duties may change at any time due to business needs.\n",
    "\n",
    "About You\n",
    "\n",
    "4-year degree in Quantitative disciplines (Science, Technology, Engineering, Mathematics) or equivalent experience\n",
    "PhD or MS in Computer Science, Applied Mathematics, Physics or related quantitative field\n",
    "Research and/or industry experiences in relevant fields such as Information Retrieval, Query Understanding, Machine Learning, NLP as well as Recommendation or Recommender systems\n",
    "Demonstrated experience in Search Indexing, Retrieval, Ranking or Query Understanding\n",
    "3 plus year of experience implementing Machine Learning models and algorithms into production at scale\n",
    "Proficient in Python or Java with advanced coding and problem-solving skills\n",
    "Exceptional modeling skills using Python\n",
    "Experience querying large databases with SQL, HQL or some variations\n",
    "Excellent interpersonal and communication skills that can partner with a global teams\n",
    "Constant learner mentality that stays on the leading edge of Search, Query Understanding, ML and NLP advancements\n",
    "\n",
    "Americans With Disabilities Act (ADA)\n",
    "\n",
    "In compliance with state and federal laws, Target will make reasonable accommodations for applicants with disabilities. If a reasonable accommodation is needed to participate in the job application or interview process, please reach out to candidate.accommodations@HRHelp.Target.com.\n",
    "\n",
    "Application deadline is : 09/19/2024\n",
    "\n",
    "\n",
    "\"\"\""
   ]
  },
  {
   "cell_type": "code",
   "execution_count": 13,
   "metadata": {},
   "outputs": [],
   "source": [
    "prompt = \"\"\"You are job seeker, \n",
    "        you retrieve the rquired skill with related info of the provided job post,\n",
    "        Your job is to write a short cold email (maximum 250 words) to the client regarding the job post mentioned above\n",
    "        Do not provide a preamble.\n",
    "        \"\"\""
   ]
  },
  {
   "cell_type": "code",
   "execution_count": 14,
   "metadata": {},
   "outputs": [],
   "source": [
    "from langchain_core.messages import HumanMessage\n",
    "message = HumanMessage(\n",
    "    content=[\n",
    "        {\n",
    "        \"type\":\"text\",\n",
    "        \"text\": prompt\n",
    "        },\n",
    "                {\n",
    "        \"type\":\"text\",\n",
    "        \"text\": job_post\n",
    "        },\n",
    "\n",
    "    ]\n",
    ")"
   ]
  },
  {
   "cell_type": "code",
   "execution_count": 15,
   "metadata": {},
   "outputs": [
    {
     "name": "stdout",
     "output_type": "stream",
     "text": [
      "Dear [Hiring Manager Name],\n",
      "\n",
      "I am writing to express my interest in the Senior Data Scientist position at Target. I have been working in the data science field for the past 5 years, and I have a strong background in machine learning, NLP, and applied ML. I am confident that I have the skills and experience that you are looking for in a candidate for this role.\n",
      "\n",
      "In my previous role, I was responsible for developing and implementing machine learning models for a variety of business problems. I have a proven track record of success in delivering high-quality results, and I am confident that I can make a significant contribution to your team.\n",
      "\n",
      "I am a highly motivated and results-oriented individual. I am also a team player, and I am always willing to go the extra mile to get the job done. I am confident that I can be a valuable asset to your team, and I am eager to learn more about this opportunity.\n",
      "\n",
      "Thank you for your time and consideration. I look forward to hearing from you soon.\n",
      "\n",
      "Sincerely,\n",
      "[Your Name]\n"
     ]
    }
   ],
   "source": [
    "print(llm.invoke([message]))"
   ]
  }
 ],
 "metadata": {
  "kernelspec": {
   "display_name": "venv",
   "language": "python",
   "name": "python3"
  },
  "language_info": {
   "codemirror_mode": {
    "name": "ipython",
    "version": 3
   },
   "file_extension": ".py",
   "mimetype": "text/x-python",
   "name": "python",
   "nbconvert_exporter": "python",
   "pygments_lexer": "ipython3",
   "version": "3.12.3"
  }
 },
 "nbformat": 4,
 "nbformat_minor": 2
}
